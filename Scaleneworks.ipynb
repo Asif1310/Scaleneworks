{
  "nbformat": 4,
  "nbformat_minor": 0,
  "metadata": {
    "colab": {
      "provenance": []
    },
    "kernelspec": {
      "name": "python3",
      "display_name": "Python 3"
    },
    "language_info": {
      "name": "python"
    }
  },
  "cells": [
    {
      "cell_type": "code",
      "execution_count": 1,
      "metadata": {
        "id": "r0xyHiqpRitI"
      },
      "outputs": [],
      "source": [
        "import pandas as pd"
      ]
    },
    {
      "cell_type": "code",
      "source": [
        "df = pd.read_csv('/content/ML.csv')"
      ],
      "metadata": {
        "id": "5q_8MzOIeZUN"
      },
      "execution_count": 2,
      "outputs": []
    },
    {
      "cell_type": "code",
      "source": [
        "df.isna().sum()"
      ],
      "metadata": {
        "colab": {
          "base_uri": "https://localhost:8080/"
        },
        "id": "A-yG4AVXevut",
        "outputId": "2581be3f-b543-485e-d3a5-313e6e262d94"
      },
      "execution_count": 3,
      "outputs": [
        {
          "output_type": "execute_result",
          "data": {
            "text/plain": [
              "Candidate Ref                  0\n",
              "DOJ Extended                   0\n",
              "Duration to accept offer    2719\n",
              "Notice period                  0\n",
              "Offered band                   0\n",
              "Percent difference CTC       851\n",
              "Joining Bonus                  0\n",
              "Candidate Source               0\n",
              "Location                       0\n",
              "Status                         0\n",
              "dtype: int64"
            ]
          },
          "metadata": {},
          "execution_count": 3
        }
      ]
    },
    {
      "cell_type": "code",
      "source": [
        "df"
      ],
      "metadata": {
        "colab": {
          "base_uri": "https://localhost:8080/",
          "height": 554
        },
        "id": "23CnXOFAecGs",
        "outputId": "1e8bee5f-d5ff-40ed-e8e4-48759c7ff42e"
      },
      "execution_count": 4,
      "outputs": [
        {
          "output_type": "execute_result",
          "data": {
            "text/plain": [
              "       Candidate Ref DOJ Extended  Duration to accept offer  Notice period  \\\n",
              "0            2110407          Yes                      14.0             30   \n",
              "1            2112635           No                      18.0             30   \n",
              "2            2112838           No                       3.0             45   \n",
              "3            2115021           No                      26.0             30   \n",
              "4            2115125          Yes                       1.0            120   \n",
              "...              ...          ...                       ...            ...   \n",
              "12328        3828260           No                       NaN              0   \n",
              "12329        3830270           No                       NaN              0   \n",
              "12330        3834159           No                       0.0              0   \n",
              "12331        3835433           No                       0.0             30   \n",
              "12332        3836076           No                       2.0              0   \n",
              "\n",
              "      Offered band  Percent difference CTC Joining Bonus   Candidate Source  \\\n",
              "0               E2                   42.86            No             Agency   \n",
              "1               E2                  180.00            No  Employee Referral   \n",
              "2               E2                    0.00            No             Agency   \n",
              "3               E2                    0.00            No  Employee Referral   \n",
              "4               E2                    0.00            No  Employee Referral   \n",
              "...            ...                     ...           ...                ...   \n",
              "12328           E0                   -3.18            No             Direct   \n",
              "12329           E0                   -3.18            No             Direct   \n",
              "12330           E2                    0.00            No             Direct   \n",
              "12331           E1                  -13.04            No             Direct   \n",
              "12332           E1                  -21.45            No  Employee Referral   \n",
              "\n",
              "      Location  Status  \n",
              "0        Noida       0  \n",
              "1      Chennai       0  \n",
              "2        Noida       0  \n",
              "3        Noida       0  \n",
              "4        Noida       0  \n",
              "...        ...     ...  \n",
              "12328  Chennai       0  \n",
              "12329  Chennai       0  \n",
              "12330    Noida       0  \n",
              "12331    Noida       0  \n",
              "12332  Chennai       0  \n",
              "\n",
              "[12333 rows x 10 columns]"
            ],
            "text/html": [
              "\n",
              "  <div id=\"df-154bb6ca-28a9-479f-a55d-3f34cef1c58b\">\n",
              "    <div class=\"colab-df-container\">\n",
              "      <div>\n",
              "<style scoped>\n",
              "    .dataframe tbody tr th:only-of-type {\n",
              "        vertical-align: middle;\n",
              "    }\n",
              "\n",
              "    .dataframe tbody tr th {\n",
              "        vertical-align: top;\n",
              "    }\n",
              "\n",
              "    .dataframe thead th {\n",
              "        text-align: right;\n",
              "    }\n",
              "</style>\n",
              "<table border=\"1\" class=\"dataframe\">\n",
              "  <thead>\n",
              "    <tr style=\"text-align: right;\">\n",
              "      <th></th>\n",
              "      <th>Candidate Ref</th>\n",
              "      <th>DOJ Extended</th>\n",
              "      <th>Duration to accept offer</th>\n",
              "      <th>Notice period</th>\n",
              "      <th>Offered band</th>\n",
              "      <th>Percent difference CTC</th>\n",
              "      <th>Joining Bonus</th>\n",
              "      <th>Candidate Source</th>\n",
              "      <th>Location</th>\n",
              "      <th>Status</th>\n",
              "    </tr>\n",
              "  </thead>\n",
              "  <tbody>\n",
              "    <tr>\n",
              "      <th>0</th>\n",
              "      <td>2110407</td>\n",
              "      <td>Yes</td>\n",
              "      <td>14.0</td>\n",
              "      <td>30</td>\n",
              "      <td>E2</td>\n",
              "      <td>42.86</td>\n",
              "      <td>No</td>\n",
              "      <td>Agency</td>\n",
              "      <td>Noida</td>\n",
              "      <td>0</td>\n",
              "    </tr>\n",
              "    <tr>\n",
              "      <th>1</th>\n",
              "      <td>2112635</td>\n",
              "      <td>No</td>\n",
              "      <td>18.0</td>\n",
              "      <td>30</td>\n",
              "      <td>E2</td>\n",
              "      <td>180.00</td>\n",
              "      <td>No</td>\n",
              "      <td>Employee Referral</td>\n",
              "      <td>Chennai</td>\n",
              "      <td>0</td>\n",
              "    </tr>\n",
              "    <tr>\n",
              "      <th>2</th>\n",
              "      <td>2112838</td>\n",
              "      <td>No</td>\n",
              "      <td>3.0</td>\n",
              "      <td>45</td>\n",
              "      <td>E2</td>\n",
              "      <td>0.00</td>\n",
              "      <td>No</td>\n",
              "      <td>Agency</td>\n",
              "      <td>Noida</td>\n",
              "      <td>0</td>\n",
              "    </tr>\n",
              "    <tr>\n",
              "      <th>3</th>\n",
              "      <td>2115021</td>\n",
              "      <td>No</td>\n",
              "      <td>26.0</td>\n",
              "      <td>30</td>\n",
              "      <td>E2</td>\n",
              "      <td>0.00</td>\n",
              "      <td>No</td>\n",
              "      <td>Employee Referral</td>\n",
              "      <td>Noida</td>\n",
              "      <td>0</td>\n",
              "    </tr>\n",
              "    <tr>\n",
              "      <th>4</th>\n",
              "      <td>2115125</td>\n",
              "      <td>Yes</td>\n",
              "      <td>1.0</td>\n",
              "      <td>120</td>\n",
              "      <td>E2</td>\n",
              "      <td>0.00</td>\n",
              "      <td>No</td>\n",
              "      <td>Employee Referral</td>\n",
              "      <td>Noida</td>\n",
              "      <td>0</td>\n",
              "    </tr>\n",
              "    <tr>\n",
              "      <th>...</th>\n",
              "      <td>...</td>\n",
              "      <td>...</td>\n",
              "      <td>...</td>\n",
              "      <td>...</td>\n",
              "      <td>...</td>\n",
              "      <td>...</td>\n",
              "      <td>...</td>\n",
              "      <td>...</td>\n",
              "      <td>...</td>\n",
              "      <td>...</td>\n",
              "    </tr>\n",
              "    <tr>\n",
              "      <th>12328</th>\n",
              "      <td>3828260</td>\n",
              "      <td>No</td>\n",
              "      <td>NaN</td>\n",
              "      <td>0</td>\n",
              "      <td>E0</td>\n",
              "      <td>-3.18</td>\n",
              "      <td>No</td>\n",
              "      <td>Direct</td>\n",
              "      <td>Chennai</td>\n",
              "      <td>0</td>\n",
              "    </tr>\n",
              "    <tr>\n",
              "      <th>12329</th>\n",
              "      <td>3830270</td>\n",
              "      <td>No</td>\n",
              "      <td>NaN</td>\n",
              "      <td>0</td>\n",
              "      <td>E0</td>\n",
              "      <td>-3.18</td>\n",
              "      <td>No</td>\n",
              "      <td>Direct</td>\n",
              "      <td>Chennai</td>\n",
              "      <td>0</td>\n",
              "    </tr>\n",
              "    <tr>\n",
              "      <th>12330</th>\n",
              "      <td>3834159</td>\n",
              "      <td>No</td>\n",
              "      <td>0.0</td>\n",
              "      <td>0</td>\n",
              "      <td>E2</td>\n",
              "      <td>0.00</td>\n",
              "      <td>No</td>\n",
              "      <td>Direct</td>\n",
              "      <td>Noida</td>\n",
              "      <td>0</td>\n",
              "    </tr>\n",
              "    <tr>\n",
              "      <th>12331</th>\n",
              "      <td>3835433</td>\n",
              "      <td>No</td>\n",
              "      <td>0.0</td>\n",
              "      <td>30</td>\n",
              "      <td>E1</td>\n",
              "      <td>-13.04</td>\n",
              "      <td>No</td>\n",
              "      <td>Direct</td>\n",
              "      <td>Noida</td>\n",
              "      <td>0</td>\n",
              "    </tr>\n",
              "    <tr>\n",
              "      <th>12332</th>\n",
              "      <td>3836076</td>\n",
              "      <td>No</td>\n",
              "      <td>2.0</td>\n",
              "      <td>0</td>\n",
              "      <td>E1</td>\n",
              "      <td>-21.45</td>\n",
              "      <td>No</td>\n",
              "      <td>Employee Referral</td>\n",
              "      <td>Chennai</td>\n",
              "      <td>0</td>\n",
              "    </tr>\n",
              "  </tbody>\n",
              "</table>\n",
              "<p>12333 rows × 10 columns</p>\n",
              "</div>\n",
              "      <button class=\"colab-df-convert\" onclick=\"convertToInteractive('df-154bb6ca-28a9-479f-a55d-3f34cef1c58b')\"\n",
              "              title=\"Convert this dataframe to an interactive table.\"\n",
              "              style=\"display:none;\">\n",
              "        \n",
              "  <svg xmlns=\"http://www.w3.org/2000/svg\" height=\"24px\"viewBox=\"0 0 24 24\"\n",
              "       width=\"24px\">\n",
              "    <path d=\"M0 0h24v24H0V0z\" fill=\"none\"/>\n",
              "    <path d=\"M18.56 5.44l.94 2.06.94-2.06 2.06-.94-2.06-.94-.94-2.06-.94 2.06-2.06.94zm-11 1L8.5 8.5l.94-2.06 2.06-.94-2.06-.94L8.5 2.5l-.94 2.06-2.06.94zm10 10l.94 2.06.94-2.06 2.06-.94-2.06-.94-.94-2.06-.94 2.06-2.06.94z\"/><path d=\"M17.41 7.96l-1.37-1.37c-.4-.4-.92-.59-1.43-.59-.52 0-1.04.2-1.43.59L10.3 9.45l-7.72 7.72c-.78.78-.78 2.05 0 2.83L4 21.41c.39.39.9.59 1.41.59.51 0 1.02-.2 1.41-.59l7.78-7.78 2.81-2.81c.8-.78.8-2.07 0-2.86zM5.41 20L4 18.59l7.72-7.72 1.47 1.35L5.41 20z\"/>\n",
              "  </svg>\n",
              "      </button>\n",
              "      \n",
              "  <style>\n",
              "    .colab-df-container {\n",
              "      display:flex;\n",
              "      flex-wrap:wrap;\n",
              "      gap: 12px;\n",
              "    }\n",
              "\n",
              "    .colab-df-convert {\n",
              "      background-color: #E8F0FE;\n",
              "      border: none;\n",
              "      border-radius: 50%;\n",
              "      cursor: pointer;\n",
              "      display: none;\n",
              "      fill: #1967D2;\n",
              "      height: 32px;\n",
              "      padding: 0 0 0 0;\n",
              "      width: 32px;\n",
              "    }\n",
              "\n",
              "    .colab-df-convert:hover {\n",
              "      background-color: #E2EBFA;\n",
              "      box-shadow: 0px 1px 2px rgba(60, 64, 67, 0.3), 0px 1px 3px 1px rgba(60, 64, 67, 0.15);\n",
              "      fill: #174EA6;\n",
              "    }\n",
              "\n",
              "    [theme=dark] .colab-df-convert {\n",
              "      background-color: #3B4455;\n",
              "      fill: #D2E3FC;\n",
              "    }\n",
              "\n",
              "    [theme=dark] .colab-df-convert:hover {\n",
              "      background-color: #434B5C;\n",
              "      box-shadow: 0px 1px 3px 1px rgba(0, 0, 0, 0.15);\n",
              "      filter: drop-shadow(0px 1px 2px rgba(0, 0, 0, 0.3));\n",
              "      fill: #FFFFFF;\n",
              "    }\n",
              "  </style>\n",
              "\n",
              "      <script>\n",
              "        const buttonEl =\n",
              "          document.querySelector('#df-154bb6ca-28a9-479f-a55d-3f34cef1c58b button.colab-df-convert');\n",
              "        buttonEl.style.display =\n",
              "          google.colab.kernel.accessAllowed ? 'block' : 'none';\n",
              "\n",
              "        async function convertToInteractive(key) {\n",
              "          const element = document.querySelector('#df-154bb6ca-28a9-479f-a55d-3f34cef1c58b');\n",
              "          const dataTable =\n",
              "            await google.colab.kernel.invokeFunction('convertToInteractive',\n",
              "                                                     [key], {});\n",
              "          if (!dataTable) return;\n",
              "\n",
              "          const docLinkHtml = 'Like what you see? Visit the ' +\n",
              "            '<a target=\"_blank\" href=https://colab.research.google.com/notebooks/data_table.ipynb>data table notebook</a>'\n",
              "            + ' to learn more about interactive tables.';\n",
              "          element.innerHTML = '';\n",
              "          dataTable['output_type'] = 'display_data';\n",
              "          await google.colab.output.renderOutput(dataTable, element);\n",
              "          const docLink = document.createElement('div');\n",
              "          docLink.innerHTML = docLinkHtml;\n",
              "          element.appendChild(docLink);\n",
              "        }\n",
              "      </script>\n",
              "    </div>\n",
              "  </div>\n",
              "  "
            ]
          },
          "metadata": {},
          "execution_count": 4
        }
      ]
    },
    {
      "cell_type": "code",
      "source": [
        "df['DOJ Extended'] = df['DOJ Extended'].replace({\"Yes\":1,\"No\":0})\n",
        "df['Joining Bonus'] = df['Joining Bonus'].replace({\"Yes\":1,\"No\":0})\n",
        "df['Designation offered'] = df['Offered band'].replace({\"E0\":'Entry-level',\"E1\":\"Junior\",\"E2\":\"Mid-level\",\"E3\":\"Senior\",\"E4\":\"Senior\",\"E5\":\"Senior\",\"E6\":\"Senior\"})"
      ],
      "metadata": {
        "id": "POUsi_NQfABB"
      },
      "execution_count": 5,
      "outputs": []
    },
    {
      "cell_type": "code",
      "source": [
        "df['Location'].unique()"
      ],
      "metadata": {
        "colab": {
          "base_uri": "https://localhost:8080/"
        },
        "id": "3GCD993MgTVd",
        "outputId": "4eac588f-5359-4a06-d65a-ab648ab90f8b"
      },
      "execution_count": 6,
      "outputs": [
        {
          "output_type": "execute_result",
          "data": {
            "text/plain": [
              "array(['Noida', 'Chennai', 'Gurgaon', 'Bangalore', 'Kolkata', 'Mumbai',\n",
              "       'Hyderabad', 'Cochin', 'Pune', 'Others', 'Coimbatore', 'Ahmedabad'],\n",
              "      dtype=object)"
            ]
          },
          "metadata": {},
          "execution_count": 6
        }
      ]
    },
    {
      "cell_type": "code",
      "source": [
        "df['Percent difference CTC'] = df['Percent difference CTC'].apply(lambda x: 'LESS THAN THE EXPECTATION' if x < 0 else('MATCHED THE EXPECTATION' if x == 0 else 'EXCEEDED THE EXPECTATION'))"
      ],
      "metadata": {
        "id": "SCcZiN3Yg55U"
      },
      "execution_count": 7,
      "outputs": []
    },
    {
      "cell_type": "code",
      "source": [
        "df['Duration to accept offer'] = df['Duration to accept offer'].apply(lambda x: '< 10 days' if x <=10 else '> 10 days')"
      ],
      "metadata": {
        "id": "wuYTpEPai0Ua"
      },
      "execution_count": 8,
      "outputs": []
    },
    {
      "cell_type": "code",
      "source": [
        "df['Notice period'] = df['Notice period'].apply(lambda x: '< 1 month' if x < 30 else('1 to 2 months' if x < 60 else '> 2 months'))"
      ],
      "metadata": {
        "id": "d4fPHJr1jHBp"
      },
      "execution_count": 9,
      "outputs": []
    },
    {
      "cell_type": "code",
      "source": [
        "df = df.drop(columns = ['Offered band','Candidate Ref','Location'], axis = 1)"
      ],
      "metadata": {
        "id": "qoPrKAWRv-jb"
      },
      "execution_count": 10,
      "outputs": []
    },
    {
      "cell_type": "code",
      "source": [
        "df.info()"
      ],
      "metadata": {
        "colab": {
          "base_uri": "https://localhost:8080/"
        },
        "id": "9s31dAU5wPOL",
        "outputId": "674a24ba-2a06-4266-f23d-9533bb7ba02a"
      },
      "execution_count": 11,
      "outputs": [
        {
          "output_type": "stream",
          "name": "stdout",
          "text": [
            "<class 'pandas.core.frame.DataFrame'>\n",
            "RangeIndex: 12333 entries, 0 to 12332\n",
            "Data columns (total 8 columns):\n",
            " #   Column                    Non-Null Count  Dtype \n",
            "---  ------                    --------------  ----- \n",
            " 0   DOJ Extended              12333 non-null  int64 \n",
            " 1   Duration to accept offer  12333 non-null  object\n",
            " 2   Notice period             12333 non-null  object\n",
            " 3   Percent difference CTC    12333 non-null  object\n",
            " 4   Joining Bonus             12333 non-null  int64 \n",
            " 5   Candidate Source          12333 non-null  object\n",
            " 6   Status                    12333 non-null  int64 \n",
            " 7   Designation offered       12333 non-null  object\n",
            "dtypes: int64(3), object(5)\n",
            "memory usage: 770.9+ KB\n"
          ]
        }
      ]
    },
    {
      "cell_type": "markdown",
      "source": [
        "H2O"
      ],
      "metadata": {
        "id": "_Yhu1c6BOTzS"
      }
    },
    {
      "cell_type": "code",
      "source": [
        "!pip install h2o\n",
        "import h2o"
      ],
      "metadata": {
        "colab": {
          "base_uri": "https://localhost:8080/"
        },
        "id": "sjpf3YOJxgS0",
        "outputId": "1fc02e9d-03c8-4720-8e55-0043906f63ef"
      },
      "execution_count": null,
      "outputs": [
        {
          "output_type": "stream",
          "name": "stdout",
          "text": [
            "Looking in indexes: https://pypi.org/simple, https://us-python.pkg.dev/colab-wheels/public/simple/\n",
            "Requirement already satisfied: h2o in /usr/local/lib/python3.9/dist-packages (3.40.0.2)\n",
            "Requirement already satisfied: tabulate in /usr/local/lib/python3.9/dist-packages (from h2o) (0.8.10)\n",
            "Requirement already satisfied: requests in /usr/local/lib/python3.9/dist-packages (from h2o) (2.27.1)\n",
            "Requirement already satisfied: future in /usr/local/lib/python3.9/dist-packages (from h2o) (0.18.3)\n",
            "Requirement already satisfied: charset-normalizer~=2.0.0 in /usr/local/lib/python3.9/dist-packages (from requests->h2o) (2.0.12)\n",
            "Requirement already satisfied: idna<4,>=2.5 in /usr/local/lib/python3.9/dist-packages (from requests->h2o) (3.4)\n",
            "Requirement already satisfied: certifi>=2017.4.17 in /usr/local/lib/python3.9/dist-packages (from requests->h2o) (2022.12.7)\n",
            "Requirement already satisfied: urllib3<1.27,>=1.21.1 in /usr/local/lib/python3.9/dist-packages (from requests->h2o) (1.26.15)\n"
          ]
        }
      ]
    },
    {
      "cell_type": "code",
      "source": [
        "h2o.init()"
      ],
      "metadata": {
        "colab": {
          "base_uri": "https://localhost:8080/",
          "height": 378
        },
        "id": "kYA8lSWjx1a9",
        "outputId": "c24f9f27-ba70-4766-ca6b-57173322dc8b"
      },
      "execution_count": null,
      "outputs": [
        {
          "output_type": "stream",
          "name": "stdout",
          "text": [
            "Checking whether there is an H2O instance running at http://localhost:54321. connected.\n"
          ]
        },
        {
          "output_type": "display_data",
          "data": {
            "text/plain": [
              "--------------------------  ----------------------------------\n",
              "H2O_cluster_uptime:         20 mins 52 secs\n",
              "H2O_cluster_timezone:       Etc/UTC\n",
              "H2O_data_parsing_timezone:  UTC\n",
              "H2O_cluster_version:        3.40.0.2\n",
              "H2O_cluster_version_age:    16 days\n",
              "H2O_cluster_name:           H2O_from_python_unknownUser_3tmwz4\n",
              "H2O_cluster_total_nodes:    1\n",
              "H2O_cluster_free_memory:    3.171 Gb\n",
              "H2O_cluster_total_cores:    2\n",
              "H2O_cluster_allowed_cores:  2\n",
              "H2O_cluster_status:         locked, healthy\n",
              "H2O_connection_url:         http://localhost:54321\n",
              "H2O_connection_proxy:       {\"http\": null, \"https\": null}\n",
              "H2O_internal_security:      False\n",
              "Python_version:             3.9.16 final\n",
              "--------------------------  ----------------------------------"
            ],
            "text/html": [
              "\n",
              "<style>\n",
              "\n",
              "#h2o-table-10.h2o-container {\n",
              "  overflow-x: auto;\n",
              "}\n",
              "#h2o-table-10 .h2o-table {\n",
              "  /* width: 100%; */\n",
              "  margin-top: 1em;\n",
              "  margin-bottom: 1em;\n",
              "}\n",
              "#h2o-table-10 .h2o-table caption {\n",
              "  white-space: nowrap;\n",
              "  caption-side: top;\n",
              "  text-align: left;\n",
              "  /* margin-left: 1em; */\n",
              "  margin: 0;\n",
              "  font-size: larger;\n",
              "}\n",
              "#h2o-table-10 .h2o-table thead {\n",
              "  white-space: nowrap; \n",
              "  position: sticky;\n",
              "  top: 0;\n",
              "  box-shadow: 0 -1px inset;\n",
              "}\n",
              "#h2o-table-10 .h2o-table tbody {\n",
              "  overflow: auto;\n",
              "}\n",
              "#h2o-table-10 .h2o-table th,\n",
              "#h2o-table-10 .h2o-table td {\n",
              "  text-align: right;\n",
              "  /* border: 1px solid; */\n",
              "}\n",
              "#h2o-table-10 .h2o-table tr:nth-child(even) {\n",
              "  /* background: #F5F5F5 */\n",
              "}\n",
              "\n",
              "</style>      \n",
              "<div id=\"h2o-table-10\" class=\"h2o-container\">\n",
              "  <table class=\"h2o-table\">\n",
              "    <caption></caption>\n",
              "    <thead></thead>\n",
              "    <tbody><tr><td>H2O_cluster_uptime:</td>\n",
              "<td>20 mins 52 secs</td></tr>\n",
              "<tr><td>H2O_cluster_timezone:</td>\n",
              "<td>Etc/UTC</td></tr>\n",
              "<tr><td>H2O_data_parsing_timezone:</td>\n",
              "<td>UTC</td></tr>\n",
              "<tr><td>H2O_cluster_version:</td>\n",
              "<td>3.40.0.2</td></tr>\n",
              "<tr><td>H2O_cluster_version_age:</td>\n",
              "<td>16 days</td></tr>\n",
              "<tr><td>H2O_cluster_name:</td>\n",
              "<td>H2O_from_python_unknownUser_3tmwz4</td></tr>\n",
              "<tr><td>H2O_cluster_total_nodes:</td>\n",
              "<td>1</td></tr>\n",
              "<tr><td>H2O_cluster_free_memory:</td>\n",
              "<td>3.171 Gb</td></tr>\n",
              "<tr><td>H2O_cluster_total_cores:</td>\n",
              "<td>2</td></tr>\n",
              "<tr><td>H2O_cluster_allowed_cores:</td>\n",
              "<td>2</td></tr>\n",
              "<tr><td>H2O_cluster_status:</td>\n",
              "<td>locked, healthy</td></tr>\n",
              "<tr><td>H2O_connection_url:</td>\n",
              "<td>http://localhost:54321</td></tr>\n",
              "<tr><td>H2O_connection_proxy:</td>\n",
              "<td>{\"http\": null, \"https\": null}</td></tr>\n",
              "<tr><td>H2O_internal_security:</td>\n",
              "<td>False</td></tr>\n",
              "<tr><td>Python_version:</td>\n",
              "<td>3.9.16 final</td></tr></tbody>\n",
              "  </table>\n",
              "</div>\n"
            ]
          },
          "metadata": {}
        }
      ]
    },
    {
      "cell_type": "code",
      "source": [
        "df = h2o.H2OFrame(df)\n",
        "df['DOJ Extended'] = df['DOJ Extended'].scale(center = True, scale = True)\n"
      ],
      "metadata": {
        "colab": {
          "base_uri": "https://localhost:8080/"
        },
        "id": "vut7KihRw_gj",
        "outputId": "cc928b7c-9030-48ca-f9d2-ba1e990501a8"
      },
      "execution_count": null,
      "outputs": [
        {
          "output_type": "stream",
          "name": "stdout",
          "text": [
            "Parse progress: |████████████████████████████████████████████████████████████████| (done) 100%\n"
          ]
        }
      ]
    },
    {
      "cell_type": "code",
      "source": [
        "df['Joining Bonus'] = df['Joining Bonus'].scale(center = True, scale = True)"
      ],
      "metadata": {
        "id": "WO6yEfARx_rm"
      },
      "execution_count": null,
      "outputs": []
    },
    {
      "cell_type": "code",
      "source": [
        "df.col_names"
      ],
      "metadata": {
        "colab": {
          "base_uri": "https://localhost:8080/"
        },
        "id": "UwZEXAzhyZKB",
        "outputId": "385c78d7-2271-4216-bc3d-518001ca25d6"
      },
      "execution_count": null,
      "outputs": [
        {
          "output_type": "execute_result",
          "data": {
            "text/plain": [
              "['DOJ Extended',\n",
              " 'Duration to accept offer',\n",
              " 'Notice period',\n",
              " 'Percent difference CTC',\n",
              " 'Joining Bonus',\n",
              " 'Candidate Source',\n",
              " 'Status',\n",
              " 'Designation offered']"
            ]
          },
          "metadata": {},
          "execution_count": 63
        }
      ]
    },
    {
      "cell_type": "code",
      "source": [
        "train, valid = df.split_frame(ratios = [.8])\n",
        "X = ['DOJ Extended',\n",
        " 'Duration to accept offer',\n",
        " 'Notice period',\n",
        " 'Percent difference CTC',\n",
        " 'Joining Bonus',\n",
        " 'Candidate Source',\n",
        " 'Designation offered']\n",
        "y = 'Status'"
      ],
      "metadata": {
        "id": "lJAf5B08yI8Q"
      },
      "execution_count": null,
      "outputs": []
    },
    {
      "cell_type": "code",
      "source": [
        "from h2o.estimators import H2ORandomForestEstimator"
      ],
      "metadata": {
        "id": "0fN0wGA8yo9R"
      },
      "execution_count": null,
      "outputs": []
    },
    {
      "cell_type": "code",
      "source": [
        "rf = H2ORandomForestEstimator(seed=1, nfolds=5, model_id=\"rf\",\n",
        "    ntrees=50,\n",
        "    max_depth=10,\n",
        "    stopping_rounds=2,\n",
        "    stopping_tolerance=0.01,\n",
        "    score_each_iteration=True)"
      ],
      "metadata": {
        "id": "LlTb6kNXyjRY"
      },
      "execution_count": null,
      "outputs": []
    },
    {
      "cell_type": "code",
      "source": [
        "rf.train(x=X, y=y, training_frame=train, validation_frame = valid)"
      ],
      "metadata": {
        "colab": {
          "base_uri": "https://localhost:8080/",
          "height": 1000
        },
        "id": "aoklPllWyzkx",
        "outputId": "236c3256-d32c-4daf-884e-abc3edede7c8"
      },
      "execution_count": null,
      "outputs": [
        {
          "output_type": "stream",
          "name": "stdout",
          "text": [
            "drf Model Build progress: |"
          ]
        },
        {
          "output_type": "stream",
          "name": "stderr",
          "text": [
            "/usr/local/lib/python3.9/dist-packages/h2o/estimators/estimator_base.py:193: RuntimeWarning: We have detected that your response column has only 2 unique values (0/1). If you wish to train a binary model instead of a regression model, convert your target column to categorical before training.\n",
            "  warnings.warn(mesg[\"message\"], RuntimeWarning)\n"
          ]
        },
        {
          "output_type": "stream",
          "name": "stdout",
          "text": [
            "██████████████████████████████████████████████████████| (done) 100%\n"
          ]
        },
        {
          "output_type": "execute_result",
          "data": {
            "text/plain": [
              "Model Details\n",
              "=============\n",
              "H2ORandomForestEstimator : Distributed Random Forest\n",
              "Model Key: rf\n",
              "\n",
              "\n",
              "Model Summary: \n",
              "    number_of_trees    number_of_internal_trees    model_size_in_bytes    min_depth    max_depth    mean_depth    min_leaves    max_leaves    mean_leaves\n",
              "--  -----------------  --------------------------  ---------------------  -----------  -----------  ------------  ------------  ------------  -------------\n",
              "    4                  4                           6219                   10           10           10            106           128           119.25\n",
              "\n",
              "ModelMetricsRegression: drf\n",
              "** Reported on train data. **\n",
              "\n",
              "MSE: 0.17788407843352325\n",
              "RMSE: 0.42176305958858373\n",
              "MAE: 0.35079754286840176\n",
              "RMSLE: 0.29648198032467254\n",
              "Mean Residual Deviance: 0.17788407843352325\n",
              "\n",
              "ModelMetricsRegression: drf\n",
              "** Reported on validation data. **\n",
              "\n",
              "MSE: 0.17545119413211976\n",
              "RMSE: 0.4188689462494442\n",
              "MAE: 0.35283601663723035\n",
              "RMSLE: 0.2941015466612333\n",
              "Mean Residual Deviance: 0.17545119413211976\n",
              "\n",
              "ModelMetricsRegression: drf\n",
              "** Reported on cross-validation data. **\n",
              "\n",
              "MSE: 0.17147721099484725\n",
              "RMSE: 0.4140980692962082\n",
              "MAE: 0.34849270610926253\n",
              "RMSLE: 0.2906787059297485\n",
              "Mean Residual Deviance: 0.17147721099484725\n",
              "\n",
              "Cross-Validation Metrics Summary: \n",
              "                        mean      sd          cv_1_valid    cv_2_valid    cv_3_valid    cv_4_valid    cv_5_valid\n",
              "----------------------  --------  ----------  ------------  ------------  ------------  ------------  ------------\n",
              "mae                     0.349767  0.00466944  0.354491      0.353979      0.345553      0.350428      0.344385\n",
              "mean_residual_deviance  0.17118   0.00405315  0.177363      0.172805      0.168811      0.169952      0.16697\n",
              "mse                     0.17118   0.00405315  0.177363      0.172805      0.168811      0.169952      0.16697\n",
              "r2                      0.173076  0.0205788   0.144063      0.16751       0.201074      0.173568      0.179165\n",
              "residual_deviance       0.17118   0.00405315  0.177363      0.172805      0.168811      0.169952      0.16697\n",
              "rmse                    0.413716  0.00488238  0.421145      0.415698      0.410866      0.412252      0.40862\n",
              "rmsle                   0.290417  0.0031823   0.295169      0.29168       0.28763       0.290098      0.287508\n",
              "\n",
              "Scoring History: \n",
              "    timestamp            duration    number_of_trees    training_rmse    training_mae    training_deviance    validation_rmse    validation_mae    validation_deviance\n",
              "--  -------------------  ----------  -----------------  ---------------  --------------  -------------------  -----------------  ----------------  ---------------------\n",
              "    2023-03-25 17:39:52  1.882 sec   0                  nan              nan             nan                  nan                nan               nan\n",
              "    2023-03-25 17:39:52  1.922 sec   1                  0.430884         0.354583        0.185661             0.428829           0.352538          0.183895\n",
              "    2023-03-25 17:39:52  2.097 sec   2                  0.42697          0.351989        0.182303             0.42072            0.350349          0.177006\n",
              "    2023-03-25 17:39:53  2.461 sec   3                  0.422577         0.347538        0.178572             0.418039           0.347649          0.174756\n",
              "    2023-03-25 17:39:53  2.948 sec   4                  0.421763         0.350798        0.177884             0.418869           0.352836          0.175451\n",
              "\n",
              "Variable Importances: \n",
              "variable                  relative_importance    scaled_importance    percentage\n",
              "------------------------  ---------------------  -------------------  ------------\n",
              "Notice period             272.189                1                    0.276746\n",
              "DOJ Extended              195.692                0.718955             0.198968\n",
              "Percent difference CTC    175.808                0.645905             0.178752\n",
              "Duration to accept offer  172.981                0.635518             0.175877\n",
              "Designation offered       87.2414                0.320518             0.0887021\n",
              "Candidate Source          60.0425                0.220591             0.0610478\n",
              "Joining Bonus             19.5788                0.071931             0.0199066\n",
              "\n",
              "[tips]\n",
              "Use `model.explain()` to inspect the model.\n",
              "--\n",
              "Use `h2o.display.toggle_user_tips()` to switch on/off this section."
            ],
            "text/html": [
              "<pre style='margin: 1em 0 1em 0;'>Model Details\n",
              "=============\n",
              "H2ORandomForestEstimator : Distributed Random Forest\n",
              "Model Key: rf\n",
              "</pre>\n",
              "<div style='margin: 1em 0 1em 0;'>\n",
              "<style>\n",
              "\n",
              "#h2o-table-11.h2o-container {\n",
              "  overflow-x: auto;\n",
              "}\n",
              "#h2o-table-11 .h2o-table {\n",
              "  /* width: 100%; */\n",
              "  margin-top: 1em;\n",
              "  margin-bottom: 1em;\n",
              "}\n",
              "#h2o-table-11 .h2o-table caption {\n",
              "  white-space: nowrap;\n",
              "  caption-side: top;\n",
              "  text-align: left;\n",
              "  /* margin-left: 1em; */\n",
              "  margin: 0;\n",
              "  font-size: larger;\n",
              "}\n",
              "#h2o-table-11 .h2o-table thead {\n",
              "  white-space: nowrap; \n",
              "  position: sticky;\n",
              "  top: 0;\n",
              "  box-shadow: 0 -1px inset;\n",
              "}\n",
              "#h2o-table-11 .h2o-table tbody {\n",
              "  overflow: auto;\n",
              "}\n",
              "#h2o-table-11 .h2o-table th,\n",
              "#h2o-table-11 .h2o-table td {\n",
              "  text-align: right;\n",
              "  /* border: 1px solid; */\n",
              "}\n",
              "#h2o-table-11 .h2o-table tr:nth-child(even) {\n",
              "  /* background: #F5F5F5 */\n",
              "}\n",
              "\n",
              "</style>      \n",
              "<div id=\"h2o-table-11\" class=\"h2o-container\">\n",
              "  <table class=\"h2o-table\">\n",
              "    <caption>Model Summary: </caption>\n",
              "    <thead><tr><th></th>\n",
              "<th>number_of_trees</th>\n",
              "<th>number_of_internal_trees</th>\n",
              "<th>model_size_in_bytes</th>\n",
              "<th>min_depth</th>\n",
              "<th>max_depth</th>\n",
              "<th>mean_depth</th>\n",
              "<th>min_leaves</th>\n",
              "<th>max_leaves</th>\n",
              "<th>mean_leaves</th></tr></thead>\n",
              "    <tbody><tr><td></td>\n",
              "<td>4.0</td>\n",
              "<td>4.0</td>\n",
              "<td>6219.0</td>\n",
              "<td>10.0</td>\n",
              "<td>10.0</td>\n",
              "<td>10.0</td>\n",
              "<td>106.0</td>\n",
              "<td>128.0</td>\n",
              "<td>119.25</td></tr></tbody>\n",
              "  </table>\n",
              "</div>\n",
              "</div>\n",
              "<div style='margin: 1em 0 1em 0;'><pre style='margin: 1em 0 1em 0;'>ModelMetricsRegression: drf\n",
              "** Reported on train data. **\n",
              "\n",
              "MSE: 0.17788407843352325\n",
              "RMSE: 0.42176305958858373\n",
              "MAE: 0.35079754286840176\n",
              "RMSLE: 0.29648198032467254\n",
              "Mean Residual Deviance: 0.17788407843352325</pre></div>\n",
              "<div style='margin: 1em 0 1em 0;'><pre style='margin: 1em 0 1em 0;'>ModelMetricsRegression: drf\n",
              "** Reported on validation data. **\n",
              "\n",
              "MSE: 0.17545119413211976\n",
              "RMSE: 0.4188689462494442\n",
              "MAE: 0.35283601663723035\n",
              "RMSLE: 0.2941015466612333\n",
              "Mean Residual Deviance: 0.17545119413211976</pre></div>\n",
              "<div style='margin: 1em 0 1em 0;'><pre style='margin: 1em 0 1em 0;'>ModelMetricsRegression: drf\n",
              "** Reported on cross-validation data. **\n",
              "\n",
              "MSE: 0.17147721099484725\n",
              "RMSE: 0.4140980692962082\n",
              "MAE: 0.34849270610926253\n",
              "RMSLE: 0.2906787059297485\n",
              "Mean Residual Deviance: 0.17147721099484725</pre></div>\n",
              "<div style='margin: 1em 0 1em 0;'>\n",
              "<style>\n",
              "\n",
              "#h2o-table-12.h2o-container {\n",
              "  overflow-x: auto;\n",
              "}\n",
              "#h2o-table-12 .h2o-table {\n",
              "  /* width: 100%; */\n",
              "  margin-top: 1em;\n",
              "  margin-bottom: 1em;\n",
              "}\n",
              "#h2o-table-12 .h2o-table caption {\n",
              "  white-space: nowrap;\n",
              "  caption-side: top;\n",
              "  text-align: left;\n",
              "  /* margin-left: 1em; */\n",
              "  margin: 0;\n",
              "  font-size: larger;\n",
              "}\n",
              "#h2o-table-12 .h2o-table thead {\n",
              "  white-space: nowrap; \n",
              "  position: sticky;\n",
              "  top: 0;\n",
              "  box-shadow: 0 -1px inset;\n",
              "}\n",
              "#h2o-table-12 .h2o-table tbody {\n",
              "  overflow: auto;\n",
              "}\n",
              "#h2o-table-12 .h2o-table th,\n",
              "#h2o-table-12 .h2o-table td {\n",
              "  text-align: right;\n",
              "  /* border: 1px solid; */\n",
              "}\n",
              "#h2o-table-12 .h2o-table tr:nth-child(even) {\n",
              "  /* background: #F5F5F5 */\n",
              "}\n",
              "\n",
              "</style>      \n",
              "<div id=\"h2o-table-12\" class=\"h2o-container\">\n",
              "  <table class=\"h2o-table\">\n",
              "    <caption>Cross-Validation Metrics Summary: </caption>\n",
              "    <thead><tr><th></th>\n",
              "<th>mean</th>\n",
              "<th>sd</th>\n",
              "<th>cv_1_valid</th>\n",
              "<th>cv_2_valid</th>\n",
              "<th>cv_3_valid</th>\n",
              "<th>cv_4_valid</th>\n",
              "<th>cv_5_valid</th></tr></thead>\n",
              "    <tbody><tr><td>mae</td>\n",
              "<td>0.3497671</td>\n",
              "<td>0.0046694</td>\n",
              "<td>0.3544909</td>\n",
              "<td>0.3539786</td>\n",
              "<td>0.3455527</td>\n",
              "<td>0.3504280</td>\n",
              "<td>0.3443852</td></tr>\n",
              "<tr><td>mean_residual_deviance</td>\n",
              "<td>0.1711802</td>\n",
              "<td>0.0040531</td>\n",
              "<td>0.177363</td>\n",
              "<td>0.1728049</td>\n",
              "<td>0.1688110</td>\n",
              "<td>0.1699517</td>\n",
              "<td>0.1669703</td></tr>\n",
              "<tr><td>mse</td>\n",
              "<td>0.1711802</td>\n",
              "<td>0.0040531</td>\n",
              "<td>0.177363</td>\n",
              "<td>0.1728049</td>\n",
              "<td>0.1688110</td>\n",
              "<td>0.1699517</td>\n",
              "<td>0.1669703</td></tr>\n",
              "<tr><td>r2</td>\n",
              "<td>0.1730761</td>\n",
              "<td>0.0205788</td>\n",
              "<td>0.1440631</td>\n",
              "<td>0.1675100</td>\n",
              "<td>0.2010742</td>\n",
              "<td>0.1735682</td>\n",
              "<td>0.1791650</td></tr>\n",
              "<tr><td>residual_deviance</td>\n",
              "<td>0.1711802</td>\n",
              "<td>0.0040531</td>\n",
              "<td>0.177363</td>\n",
              "<td>0.1728049</td>\n",
              "<td>0.1688110</td>\n",
              "<td>0.1699517</td>\n",
              "<td>0.1669703</td></tr>\n",
              "<tr><td>rmse</td>\n",
              "<td>0.4137162</td>\n",
              "<td>0.0048824</td>\n",
              "<td>0.4211449</td>\n",
              "<td>0.4156981</td>\n",
              "<td>0.4108662</td>\n",
              "<td>0.4122519</td>\n",
              "<td>0.4086200</td></tr>\n",
              "<tr><td>rmsle</td>\n",
              "<td>0.2904169</td>\n",
              "<td>0.0031823</td>\n",
              "<td>0.2951686</td>\n",
              "<td>0.2916804</td>\n",
              "<td>0.2876296</td>\n",
              "<td>0.2900976</td>\n",
              "<td>0.287508</td></tr></tbody>\n",
              "  </table>\n",
              "</div>\n",
              "</div>\n",
              "<div style='margin: 1em 0 1em 0;'>\n",
              "<style>\n",
              "\n",
              "#h2o-table-13.h2o-container {\n",
              "  overflow-x: auto;\n",
              "}\n",
              "#h2o-table-13 .h2o-table {\n",
              "  /* width: 100%; */\n",
              "  margin-top: 1em;\n",
              "  margin-bottom: 1em;\n",
              "}\n",
              "#h2o-table-13 .h2o-table caption {\n",
              "  white-space: nowrap;\n",
              "  caption-side: top;\n",
              "  text-align: left;\n",
              "  /* margin-left: 1em; */\n",
              "  margin: 0;\n",
              "  font-size: larger;\n",
              "}\n",
              "#h2o-table-13 .h2o-table thead {\n",
              "  white-space: nowrap; \n",
              "  position: sticky;\n",
              "  top: 0;\n",
              "  box-shadow: 0 -1px inset;\n",
              "}\n",
              "#h2o-table-13 .h2o-table tbody {\n",
              "  overflow: auto;\n",
              "}\n",
              "#h2o-table-13 .h2o-table th,\n",
              "#h2o-table-13 .h2o-table td {\n",
              "  text-align: right;\n",
              "  /* border: 1px solid; */\n",
              "}\n",
              "#h2o-table-13 .h2o-table tr:nth-child(even) {\n",
              "  /* background: #F5F5F5 */\n",
              "}\n",
              "\n",
              "</style>      \n",
              "<div id=\"h2o-table-13\" class=\"h2o-container\">\n",
              "  <table class=\"h2o-table\">\n",
              "    <caption>Scoring History: </caption>\n",
              "    <thead><tr><th></th>\n",
              "<th>timestamp</th>\n",
              "<th>duration</th>\n",
              "<th>number_of_trees</th>\n",
              "<th>training_rmse</th>\n",
              "<th>training_mae</th>\n",
              "<th>training_deviance</th>\n",
              "<th>validation_rmse</th>\n",
              "<th>validation_mae</th>\n",
              "<th>validation_deviance</th></tr></thead>\n",
              "    <tbody><tr><td></td>\n",
              "<td>2023-03-25 17:39:52</td>\n",
              "<td> 1.882 sec</td>\n",
              "<td>0.0</td>\n",
              "<td>nan</td>\n",
              "<td>nan</td>\n",
              "<td>nan</td>\n",
              "<td>nan</td>\n",
              "<td>nan</td>\n",
              "<td>nan</td></tr>\n",
              "<tr><td></td>\n",
              "<td>2023-03-25 17:39:52</td>\n",
              "<td> 1.922 sec</td>\n",
              "<td>1.0</td>\n",
              "<td>0.4308841</td>\n",
              "<td>0.3545830</td>\n",
              "<td>0.1856611</td>\n",
              "<td>0.4288293</td>\n",
              "<td>0.3525377</td>\n",
              "<td>0.1838945</td></tr>\n",
              "<tr><td></td>\n",
              "<td>2023-03-25 17:39:52</td>\n",
              "<td> 2.097 sec</td>\n",
              "<td>2.0</td>\n",
              "<td>0.4269700</td>\n",
              "<td>0.3519892</td>\n",
              "<td>0.1823034</td>\n",
              "<td>0.4207202</td>\n",
              "<td>0.3503488</td>\n",
              "<td>0.1770055</td></tr>\n",
              "<tr><td></td>\n",
              "<td>2023-03-25 17:39:53</td>\n",
              "<td> 2.461 sec</td>\n",
              "<td>3.0</td>\n",
              "<td>0.4225775</td>\n",
              "<td>0.3475376</td>\n",
              "<td>0.1785717</td>\n",
              "<td>0.4180386</td>\n",
              "<td>0.3476487</td>\n",
              "<td>0.1747563</td></tr>\n",
              "<tr><td></td>\n",
              "<td>2023-03-25 17:39:53</td>\n",
              "<td> 2.948 sec</td>\n",
              "<td>4.0</td>\n",
              "<td>0.4217631</td>\n",
              "<td>0.3507975</td>\n",
              "<td>0.1778841</td>\n",
              "<td>0.4188689</td>\n",
              "<td>0.3528360</td>\n",
              "<td>0.1754512</td></tr></tbody>\n",
              "  </table>\n",
              "</div>\n",
              "</div>\n",
              "<div style='margin: 1em 0 1em 0;'>\n",
              "<style>\n",
              "\n",
              "#h2o-table-14.h2o-container {\n",
              "  overflow-x: auto;\n",
              "}\n",
              "#h2o-table-14 .h2o-table {\n",
              "  /* width: 100%; */\n",
              "  margin-top: 1em;\n",
              "  margin-bottom: 1em;\n",
              "}\n",
              "#h2o-table-14 .h2o-table caption {\n",
              "  white-space: nowrap;\n",
              "  caption-side: top;\n",
              "  text-align: left;\n",
              "  /* margin-left: 1em; */\n",
              "  margin: 0;\n",
              "  font-size: larger;\n",
              "}\n",
              "#h2o-table-14 .h2o-table thead {\n",
              "  white-space: nowrap; \n",
              "  position: sticky;\n",
              "  top: 0;\n",
              "  box-shadow: 0 -1px inset;\n",
              "}\n",
              "#h2o-table-14 .h2o-table tbody {\n",
              "  overflow: auto;\n",
              "}\n",
              "#h2o-table-14 .h2o-table th,\n",
              "#h2o-table-14 .h2o-table td {\n",
              "  text-align: right;\n",
              "  /* border: 1px solid; */\n",
              "}\n",
              "#h2o-table-14 .h2o-table tr:nth-child(even) {\n",
              "  /* background: #F5F5F5 */\n",
              "}\n",
              "\n",
              "</style>      \n",
              "<div id=\"h2o-table-14\" class=\"h2o-container\">\n",
              "  <table class=\"h2o-table\">\n",
              "    <caption>Variable Importances: </caption>\n",
              "    <thead><tr><th>variable</th>\n",
              "<th>relative_importance</th>\n",
              "<th>scaled_importance</th>\n",
              "<th>percentage</th></tr></thead>\n",
              "    <tbody><tr><td>Notice period</td>\n",
              "<td>272.1890259</td>\n",
              "<td>1.0</td>\n",
              "<td>0.2767463</td></tr>\n",
              "<tr><td>DOJ Extended</td>\n",
              "<td>195.6917267</td>\n",
              "<td>0.7189552</td>\n",
              "<td>0.1989682</td></tr>\n",
              "<tr><td>Percent difference CTC</td>\n",
              "<td>175.8083038</td>\n",
              "<td>0.6459052</td>\n",
              "<td>0.1787519</td></tr>\n",
              "<tr><td>Duration to accept offer</td>\n",
              "<td>172.9808960</td>\n",
              "<td>0.6355175</td>\n",
              "<td>0.1758771</td></tr>\n",
              "<tr><td>Designation offered</td>\n",
              "<td>87.2414474</td>\n",
              "<td>0.3205179</td>\n",
              "<td>0.0887021</td></tr>\n",
              "<tr><td>Candidate Source</td>\n",
              "<td>60.0425224</td>\n",
              "<td>0.2205913</td>\n",
              "<td>0.0610478</td></tr>\n",
              "<tr><td>Joining Bonus</td>\n",
              "<td>19.5788288</td>\n",
              "<td>0.0719310</td>\n",
              "<td>0.0199066</td></tr></tbody>\n",
              "  </table>\n",
              "</div>\n",
              "</div><pre style=\"font-size: smaller; margin: 1em 0 0 0;\">\n",
              "\n",
              "[tips]\n",
              "Use `model.explain()` to inspect the model.\n",
              "--\n",
              "Use `h2o.display.toggle_user_tips()` to switch on/off this section.</pre>"
            ]
          },
          "metadata": {},
          "execution_count": 67
        }
      ]
    },
    {
      "cell_type": "code",
      "source": [
        "rf.varimp_plot()"
      ],
      "metadata": {
        "colab": {
          "base_uri": "https://localhost:8080/",
          "height": 647
        },
        "id": "17UJjXNczCWa",
        "outputId": "520a44fe-2b81-4f25-a3bf-2fff8a54df81"
      },
      "execution_count": null,
      "outputs": [
        {
          "output_type": "display_data",
          "data": {
            "text/plain": [
              "<Figure size 1008x720 with 1 Axes>"
            ],
            "image/png": "[encoded data removed]"
          },
          "metadata": {
            "needs_background": "light"
          }
        },
        {
          "output_type": "execute_result",
          "data": {
            "text/plain": [
              "<h2o.plot._plot_result._MObject at 0x7feda8dada00>"
            ]
          },
          "metadata": {},
          "execution_count": 68
        },
        {
          "output_type": "display_data",
          "data": {
            "text/plain": [
              "<Figure size 432x288 with 0 Axes>"
            ]
          },
          "metadata": {}
        }
      ]
    },
    {
      "cell_type": "code",
      "source": [
        "dir(rf)"
      ],
      "metadata": {
        "colab": {
          "base_uri": "https://localhost:8080/"
        },
        "id": "YeAykuuJ1NHs",
        "outputId": "a5f9f6d6-ab25-4762-e883-5d23dddb0d86"
      },
      "execution_count": null,
      "outputs": [
        {
          "output_type": "execute_result",
          "data": {
            "text/plain": [
              "['_H2OEstimator__default_params',\n",
              " '_ModelBase__generate_partial_plots',\n",
              " '_ModelBase__generate_user_splits',\n",
              " '_ModelBase__grab_values',\n",
              " '_ModelBase__plot_1d_pdp',\n",
              " '_ModelBase__plot_1d_pdp_multinomial',\n",
              " '_ModelBase__plot_2d_pdp',\n",
              " '_ModelBase__pred_for_3d',\n",
              " '_ModelBase__set_axs_1d',\n",
              " '_ModelBase__set_axs_1d_multinomial',\n",
              " '__class__',\n",
              " '__delattr__',\n",
              " '__dict__',\n",
              " '__dir__',\n",
              " '__doc__',\n",
              " '__eq__',\n",
              " '__format__',\n",
              " '__ge__',\n",
              " '__getattr__',\n",
              " '__getattribute__',\n",
              " '__gt__',\n",
              " '__hash__',\n",
              " '__init__',\n",
              " '__init_subclass__',\n",
              " '__le__',\n",
              " '__lt__',\n",
              " '__module__',\n",
              " '__ne__',\n",
              " '__new__',\n",
              " '__reduce__',\n",
              " '__reduce_ex__',\n",
              " '__repr__',\n",
              " '__setattr__',\n",
              " '__sizeof__',\n",
              " '__str__',\n",
              " '__subclasshook__',\n",
              " '__unicode__',\n",
              " '__weakref__',\n",
              " '_allowed_metrics',\n",
              " '_allowed_metrics_',\n",
              " '_bc',\n",
              " '_bci',\n",
              " '_calibrate',\n",
              " '_check_and_save_parm',\n",
              " '_check_targets',\n",
              " '_default_metric',\n",
              " '_default_metrics_',\n",
              " '_default_param_value',\n",
              " '_end_time',\n",
              " '_estimator_type',\n",
              " '_extract_scoring_history',\n",
              " '_fillMultinomialDict',\n",
              " '_future',\n",
              " '_get_metrics',\n",
              " '_get_rest_version',\n",
              " '_get_scoring_history_to_plot',\n",
              " '_have_mojo',\n",
              " '_have_pojo',\n",
              " '_id',\n",
              " '_is_xvalidated',\n",
              " '_job',\n",
              " '_keyify',\n",
              " '_make_parms',\n",
              " '_metrics_class',\n",
              " '_metrics_class_valid',\n",
              " '_model',\n",
              " '_model_json',\n",
              " '_ntrees_actual',\n",
              " '_options_',\n",
              " '_parms',\n",
              " '_predict_contributions',\n",
              " '_print_model_scoring_history',\n",
              " '_repr_',\n",
              " '_repr_html_',\n",
              " '_repr_pretty_',\n",
              " '_repr_repl_',\n",
              " '_resolve_model',\n",
              " '_run_time',\n",
              " '_start_time',\n",
              " '_str_',\n",
              " '_str_html_',\n",
              " '_str_items',\n",
              " '_str_pretty_',\n",
              " '_str_usage',\n",
              " '_str_usage_custom',\n",
              " '_summary',\n",
              " '_train',\n",
              " '_update_tree_weights',\n",
              " '_validate_timestep',\n",
              " '_varimp_plot',\n",
              " '_verify_training_frame_params',\n",
              " '_xval_keys',\n",
              " 'actual_params',\n",
              " 'aic',\n",
              " 'algo',\n",
              " 'auc',\n",
              " 'auc_type',\n",
              " 'aucpr',\n",
              " 'average_objective',\n",
              " 'balance_classes',\n",
              " 'biases',\n",
              " 'binomial_double_trees',\n",
              " 'build_tree_one_node',\n",
              " 'calibrate',\n",
              " 'calibrate_model',\n",
              " 'calibration_frame',\n",
              " 'calibration_method',\n",
              " 'categorical_encoding',\n",
              " 'catoffsets',\n",
              " 'check_constant_response',\n",
              " 'checkpoint',\n",
              " 'class_sampling_factors',\n",
              " 'coef',\n",
              " 'coef_norm',\n",
              " 'coef_with_p_values',\n",
              " 'col_sample_rate_change_per_level',\n",
              " 'col_sample_rate_per_tree',\n",
              " 'cross_validation_fold_assignment',\n",
              " 'cross_validation_holdout_predictions',\n",
              " 'cross_validation_metrics_summary',\n",
              " 'cross_validation_models',\n",
              " 'cross_validation_predictions',\n",
              " 'custom_metric_func',\n",
              " 'deepfeatures',\n",
              " 'default_params',\n",
              " 'detach',\n",
              " 'distribution',\n",
              " 'download_model',\n",
              " 'download_mojo',\n",
              " 'download_pojo',\n",
              " 'end_time',\n",
              " 'explain',\n",
              " 'explain_row',\n",
              " 'export_checkpoints_dir',\n",
              " 'fair_pd_plot',\n",
              " 'fair_pr_plot',\n",
              " 'fair_roc_plot',\n",
              " 'fair_shap_plot',\n",
              " 'fairness_metrics',\n",
              " 'feature_frequencies',\n",
              " 'feature_interaction',\n",
              " 'fit',\n",
              " 'fold_assignment',\n",
              " 'fold_column',\n",
              " 'full_parameters',\n",
              " 'gainslift_bins',\n",
              " 'get_params',\n",
              " 'get_summary',\n",
              " 'get_variable_inflation_factors',\n",
              " 'get_xval_models',\n",
              " 'gini',\n",
              " 'h',\n",
              " 'have_mojo',\n",
              " 'have_pojo',\n",
              " 'histogram_type',\n",
              " 'ice_plot',\n",
              " 'ignore_const_cols',\n",
              " 'ignored_columns',\n",
              " 'inspect_model_fairness',\n",
              " 'is_cross_validated',\n",
              " 'join',\n",
              " 'keep_cross_validation_fold_assignment',\n",
              " 'keep_cross_validation_models',\n",
              " 'keep_cross_validation_predictions',\n",
              " 'key',\n",
              " 'learning_curve_plot',\n",
              " 'logloss',\n",
              " 'mae',\n",
              " 'max_after_balance_size',\n",
              " 'max_confusion_matrix_size',\n",
              " 'max_depth',\n",
              " 'max_runtime_secs',\n",
              " 'mean_residual_deviance',\n",
              " 'min_rows',\n",
              " 'min_split_improvement',\n",
              " 'model_id',\n",
              " 'model_performance',\n",
              " 'mse',\n",
              " 'mtries',\n",
              " 'nbins',\n",
              " 'nbins_cats',\n",
              " 'nbins_top_level',\n",
              " 'negative_log_likelihood',\n",
              " 'nfolds',\n",
              " 'normmul',\n",
              " 'normsub',\n",
              " 'ntrees',\n",
              " 'ntrees_actual',\n",
              " 'null_degrees_of_freedom',\n",
              " 'null_deviance',\n",
              " 'offset_column',\n",
              " 'params',\n",
              " 'parms',\n",
              " 'partial_plot',\n",
              " 'pd_plot',\n",
              " 'permutation_importance',\n",
              " 'permutation_importance_plot',\n",
              " 'plot',\n",
              " 'pprint_coef',\n",
              " 'pr_auc',\n",
              " 'predict',\n",
              " 'predict_contributions',\n",
              " 'predict_leaf_node_assignment',\n",
              " 'predicted_vs_actual_by_variable',\n",
              " 'r2',\n",
              " 'r2_stopping',\n",
              " 'residual_analysis_plot',\n",
              " 'residual_degrees_of_freedom',\n",
              " 'residual_deviance',\n",
              " 'respmul',\n",
              " 'response_column',\n",
              " 'respsub',\n",
              " 'rmse',\n",
              " 'rmsle',\n",
              " 'rotation',\n",
              " 'row_to_tree_assignment',\n",
              " 'run_time',\n",
              " 'sample_rate',\n",
              " 'sample_rate_per_class',\n",
              " 'save_model_details',\n",
              " 'save_mojo',\n",
              " 'score_each_iteration',\n",
              " 'score_history',\n",
              " 'score_tree_interval',\n",
              " 'scoring_history',\n",
              " 'scoring_history_plot',\n",
              " 'seed',\n",
              " 'set_params',\n",
              " 'shap_explain_row_plot',\n",
              " 'shap_summary_plot',\n",
              " 'show',\n",
              " 'show_summary',\n",
              " 'staged_predict_proba',\n",
              " 'start',\n",
              " 'start_time',\n",
              " 'std_coef_plot',\n",
              " 'stopping_metric',\n",
              " 'stopping_rounds',\n",
              " 'stopping_tolerance',\n",
              " 'summary',\n",
              " 'supervised_learning',\n",
              " 'to_html',\n",
              " 'to_pretty_str',\n",
              " 'to_str',\n",
              " 'train',\n",
              " 'train_segments',\n",
              " 'training_frame',\n",
              " 'training_model_metrics',\n",
              " 'type',\n",
              " 'update_tree_weights',\n",
              " 'validation_frame',\n",
              " 'varimp',\n",
              " 'varimp_plot',\n",
              " 'weights',\n",
              " 'weights_column',\n",
              " 'xval_keys',\n",
              " 'xvals']"
            ]
          },
          "metadata": {},
          "execution_count": 69
        }
      ]
    },
    {
      "cell_type": "markdown",
      "source": [
        "Permutation Importance"
      ],
      "metadata": {
        "id": "ngjwEQDlPnIV"
      }
    },
    {
      "cell_type": "code",
      "source": [
        "from sklearn.compose import ColumnTransformer\n",
        "from sklearn.pipeline import Pipeline\n",
        "from sklearn.preprocessing import OneHotEncoder\n",
        "from sklearn.ensemble import RandomForestClassifier"
      ],
      "metadata": {
        "id": "IUUuE-0MPz27"
      },
      "execution_count": null,
      "outputs": []
    },
    {
      "cell_type": "code",
      "source": [
        "df1 =  h2o.as_list(df)"
      ],
      "metadata": {
        "id": "_58VBM2CQKNe"
      },
      "execution_count": null,
      "outputs": []
    },
    {
      "cell_type": "code",
      "source": [
        "X = df1.drop('Status', axis = 1)\n",
        "Y = df1['Status']"
      ],
      "metadata": {
        "id": "KFPrrpWFQfGm"
      },
      "execution_count": null,
      "outputs": []
    },
    {
      "cell_type": "code",
      "source": [
        "df1.info()"
      ],
      "metadata": {
        "colab": {
          "base_uri": "https://localhost:8080/"
        },
        "id": "dTjhuvNKQxni",
        "outputId": "6ee020b8-43c4-4a24-8fd0-5be17d3bf337"
      },
      "execution_count": null,
      "outputs": [
        {
          "output_type": "stream",
          "name": "stdout",
          "text": [
            "<class 'pandas.core.frame.DataFrame'>\n",
            "RangeIndex: 12333 entries, 0 to 12332\n",
            "Data columns (total 8 columns):\n",
            " #   Column                    Non-Null Count  Dtype  \n",
            "---  ------                    --------------  -----  \n",
            " 0   DOJ Extended              12333 non-null  float64\n",
            " 1   Duration to accept offer  12333 non-null  object \n",
            " 2   Notice period             12333 non-null  object \n",
            " 3   Percent difference CTC    12333 non-null  object \n",
            " 4   Joining Bonus             12333 non-null  float64\n",
            " 5   Candidate Source          12333 non-null  object \n",
            " 6   Status                    12333 non-null  int64  \n",
            " 7   Designation offered       12333 non-null  object \n",
            "dtypes: float64(2), int64(1), object(5)\n",
            "memory usage: 770.9+ KB\n"
          ]
        }
      ]
    },
    {
      "cell_type": "code",
      "source": [
        "categories = ['Duration to accept offer','Notice period','Percent difference CTC','Candidate Source','Designation offered']"
      ],
      "metadata": {
        "id": "tUWtDx9kQsAY"
      },
      "execution_count": null,
      "outputs": []
    },
    {
      "cell_type": "code",
      "source": [
        "preprocessor = ColumnTransformer(\n",
        "    transformers=[\n",
        "        ('cat', OneHotEncoder(), categories)\n",
        "    ])"
      ],
      "metadata": {
        "id": "ACE2fBG2Q9I6"
      },
      "execution_count": null,
      "outputs": []
    },
    {
      "cell_type": "code",
      "source": [
        "pipeline = Pipeline(steps=[\n",
        "    ('preprocessor', preprocessor),\n",
        "    ('classifier', RandomForestClassifier(n_estimators=50,max_depth=10, n_jobs = -1))\n",
        "])"
      ],
      "metadata": {
        "id": "_2L_but1RA8_"
      },
      "execution_count": null,
      "outputs": []
    },
    {
      "cell_type": "code",
      "source": [
        "pipeline.fit(X, Y)"
      ],
      "metadata": {
        "id": "MywfMhrjSggN"
      },
      "execution_count": null,
      "outputs": []
    },
    {
      "cell_type": "code",
      "source": [
        "from sklearn.inspection import permutation_importance\n",
        "\n",
        "result = permutation_importance(\n",
        "    pipeline, X, Y, n_repeats=10, random_state=42, n_jobs=2\n",
        ")\n",
        "\n",
        "sorted_importances_idx = result.importances_mean.argsort()\n",
        "importances = pd.DataFrame(\n",
        "    result.importances[sorted_importances_idx].T,\n",
        "    columns=X.columns[sorted_importances_idx],\n",
        ")\n",
        "ax = importances.plot.box(vert=False, whis=10)\n",
        "ax.set_title(\"Permutation Importances (test set)\")\n",
        "ax.axvline(x=0, color=\"k\", linestyle=\"--\")\n",
        "ax.set_xlabel(\"Decrease in accuracy score\")\n",
        "ax.figure.tight_layout()"
      ],
      "metadata": {
        "colab": {
          "base_uri": "https://localhost:8080/",
          "height": 297
        },
        "id": "6XCjNEmaRfAl",
        "outputId": "141bdc8f-b73d-411f-dd1c-e5466ff6643b"
      },
      "execution_count": null,
      "outputs": [
        {
          "output_type": "display_data",
          "data": {
            "text/plain": [
              "<Figure size 432x288 with 1 Axes>"
            ],
            "image/png": "[encoded data removed]"
          },
          "metadata": {
            "needs_background": "light"
          }
        }
      ]
    },
    {
      "cell_type": "code",
      "source": [
        "import matplotlib.pyplot as plt"
      ],
      "metadata": {
        "id": "rnYlf_YlnJ0C"
      },
      "execution_count": null,
      "outputs": []
    },
    {
      "cell_type": "code",
      "source": [
        "df1 = pd.read_csv('/content/importance.csv')"
      ],
      "metadata": {
        "id": "SCGREPXVn2Yi"
      },
      "execution_count": null,
      "outputs": []
    },
    {
      "cell_type": "code",
      "source": [
        "df1 = df1.sort_values('Mean Decrease in Accuracy (%)', ascending = True)"
      ],
      "metadata": {
        "id": "nD18nqxwn2rE"
      },
      "execution_count": null,
      "outputs": []
    },
    {
      "cell_type": "code",
      "source": [
        "\n",
        "plt.barh(df1['Feature'],df1['Mean Decrease in Accuracy (%)'])\n",
        "plt.xlabel('Mean Decrease in Accuracy (%)')\n",
        "plt.ylabel('Features')\n",
        "plt.title('Feature importance calculated from Permutation Importance')\n",
        "plt.savefig('Img1.jpg', dpi = 500,bbox_inches=\"tight\")\n"
      ],
      "metadata": {
        "colab": {
          "base_uri": "https://localhost:8080/",
          "height": 295
        },
        "id": "aNZBJK93kGf6",
        "outputId": "bd67b79d-0ec6-4ed0-e9a5-06b7fd65c7cb"
      },
      "execution_count": null,
      "outputs": [
        {
          "output_type": "display_data",
          "data": {
            "text/plain": [
              "<Figure size 432x288 with 1 Axes>"
            ],
            "image/png": "[encoded data removed]"
          },
          "metadata": {
            "needs_background": "light"
          }
        }
      ]
    },
    {
      "cell_type": "code",
      "source": [
        "df2 = pd.read_csv('/content/importancescreening.csv')\n",
        "df2 = df2.sort_values('Mean Decrease in Accuracy (%)', ascending = True)"
      ],
      "metadata": {
        "id": "3zEu74k_qAO9"
      },
      "execution_count": null,
      "outputs": []
    },
    {
      "cell_type": "code",
      "source": [
        "\n",
        "plt.barh(df2['Feature'],df2['Mean Decrease in Accuracy (%)'])\n",
        "plt.xlabel('Mean Decrease in Accuracy (%)')\n",
        "plt.ylabel('Features')\n",
        "plt.title('Feature importance calculated from Permutation Importance')\n",
        "plt.savefig('Img2.jpg', dpi = 500,bbox_inches=\"tight\")"
      ],
      "metadata": {
        "colab": {
          "base_uri": "https://localhost:8080/",
          "height": 295
        },
        "id": "GhCAPW81qGHl",
        "outputId": "3eb04e52-2906-4ae1-ad33-0a1ae22ee1e7"
      },
      "execution_count": null,
      "outputs": [
        {
          "output_type": "display_data",
          "data": {
            "text/plain": [
              "<Figure size 432x288 with 1 Axes>"
            ],
            "image/png": "[encoded data removed]"
          },
          "metadata": {
            "needs_background": "light"
          }
        }
      ]
    },
    {
      "cell_type": "code",
      "source": [
        "df3 = pd.read_csv('/content/importancescreeningoffer.csv')\n",
        "df3 = df3.sort_values('Mean Decrease in Accuracy (%)', ascending = True)"
      ],
      "metadata": {
        "id": "SsGSbLSFqfv7"
      },
      "execution_count": null,
      "outputs": []
    },
    {
      "cell_type": "code",
      "source": [
        "\n",
        "plt.barh(df3['Feature'],df3['Mean Decrease in Accuracy (%)'])\n",
        "plt.xlabel('Mean Decrease in Accuracy (%)')\n",
        "plt.ylabel('Features')\n",
        "plt.title('Feature importance calculated from Permutation Importance')\n",
        "plt.savefig('Img3.jpg', dpi = 500,bbox_inches=\"tight\")"
      ],
      "metadata": {
        "id": "j8NxtYHvrLUG",
        "outputId": "14b008be-1406-4cd8-f38c-49be919f9fcb",
        "colab": {
          "base_uri": "https://localhost:8080/",
          "height": 295
        }
      },
      "execution_count": null,
      "outputs": [
        {
          "output_type": "display_data",
          "data": {
            "text/plain": [
              "<Figure size 432x288 with 1 Axes>"
            ],
            "image/png": "[encoded data removed]"
          },
          "metadata": {
            "needs_background": "light"
          }
        }
      ]
    },
    {
      "cell_type": "markdown",
      "source": [
        "Chi-Square test"
      ],
      "metadata": {
        "id": "gE2fkhIRylmO"
      }
    },
    {
      "cell_type": "code",
      "source": [
        "df.info()"
      ],
      "metadata": {
        "colab": {
          "base_uri": "https://localhost:8080/"
        },
        "id": "xr0IGo9Iyrvt",
        "outputId": "bf5d4098-7c78-4de6-ef57-08adf88d93a5"
      },
      "execution_count": 12,
      "outputs": [
        {
          "output_type": "stream",
          "name": "stdout",
          "text": [
            "<class 'pandas.core.frame.DataFrame'>\n",
            "RangeIndex: 12333 entries, 0 to 12332\n",
            "Data columns (total 8 columns):\n",
            " #   Column                    Non-Null Count  Dtype \n",
            "---  ------                    --------------  ----- \n",
            " 0   DOJ Extended              12333 non-null  int64 \n",
            " 1   Duration to accept offer  12333 non-null  object\n",
            " 2   Notice period             12333 non-null  object\n",
            " 3   Percent difference CTC    12333 non-null  object\n",
            " 4   Joining Bonus             12333 non-null  int64 \n",
            " 5   Candidate Source          12333 non-null  object\n",
            " 6   Status                    12333 non-null  int64 \n",
            " 7   Designation offered       12333 non-null  object\n",
            "dtypes: int64(3), object(5)\n",
            "memory usage: 770.9+ KB\n"
          ]
        }
      ]
    },
    {
      "cell_type": "code",
      "source": [
        "import scipy.stats as stats"
      ],
      "metadata": {
        "id": "tUyj5eNLy3g1"
      },
      "execution_count": 14,
      "outputs": []
    },
    {
      "cell_type": "code",
      "source": [
        "crosstab = pd.crosstab(df['Notice period'],df['Status'])\n",
        "stats.chi2_contingency(crosstab)"
      ],
      "metadata": {
        "colab": {
          "base_uri": "https://localhost:8080/"
        },
        "id": "k0UMatfYynVp",
        "outputId": "efcf0766-0f08-437d-8cce-42eec0d24d77"
      },
      "execution_count": 18,
      "outputs": [
        {
          "output_type": "execute_result",
          "data": {
            "text/plain": [
              "Chi2ContingencyResult(statistic=693.8454217480443, pvalue=2.1546712680227375e-151, dof=2, expected_freq=array([[4954.28322387, 2048.71677613],\n",
              "       [1267.75318252,  524.24681748],\n",
              "       [2502.96359361, 1035.03640639]]))"
            ]
          },
          "metadata": {},
          "execution_count": 18
        }
      ]
    },
    {
      "cell_type": "code",
      "source": [
        "crosstab = pd.crosstab(df['Candidate Source'],df['Status'])\n",
        "stats.chi2_contingency(crosstab)"
      ],
      "metadata": {
        "colab": {
          "base_uri": "https://localhost:8080/"
        },
        "id": "pj-CQ30TzTLH",
        "outputId": "2a91484c-7bf8-454d-ef8e-256f79a2350e"
      },
      "execution_count": 19,
      "outputs": [
        {
          "output_type": "execute_result",
          "data": {
            "text/plain": [
              "Chi2ContingencyResult(statistic=170.45598213802828, pvalue=9.681748012209225e-38, dof=2, expected_freq=array([[2242.6214222 ,  927.3785778 ],\n",
              "       [5005.21973567, 2069.78026433],\n",
              "       [1477.15884213,  610.84115787]]))"
            ]
          },
          "metadata": {},
          "execution_count": 19
        }
      ]
    },
    {
      "cell_type": "code",
      "source": [
        "crosstab = pd.crosstab(df['Designation offered'],df['Status'])\n",
        "stats.chi2_contingency(crosstab)"
      ],
      "metadata": {
        "colab": {
          "base_uri": "https://localhost:8080/"
        },
        "id": "CNcxY7Nxzd8X",
        "outputId": "02062e71-4927-4ed3-df37-22ca118c3ded"
      },
      "execution_count": 20,
      "outputs": [
        {
          "output_type": "execute_result",
          "data": {
            "text/plain": [
              "Chi2ContingencyResult(statistic=92.27603206452066, pvalue=7.106094810473833e-20, dof=3, expected_freq=array([[ 748.4837428 ,  309.5162572 ],\n",
              "       [4949.331063  , 2046.668937  ],\n",
              "       [2446.36746939, 1011.63253061],\n",
              "       [ 580.8177248 ,  240.1822752 ]]))"
            ]
          },
          "metadata": {},
          "execution_count": 20
        }
      ]
    },
    {
      "cell_type": "code",
      "source": [
        "crosstab = pd.crosstab(df['Percent difference CTC'],df['Status'])\n",
        "stats.chi2_contingency(crosstab)"
      ],
      "metadata": {
        "colab": {
          "base_uri": "https://localhost:8080/"
        },
        "id": "0NB4XH790W4t",
        "outputId": "57a80fbf-bdb7-4983-efd0-7306ca91f669"
      },
      "execution_count": 21,
      "outputs": [
        {
          "output_type": "execute_result",
          "data": {
            "text/plain": [
              "Chi2ContingencyResult(statistic=325.01885042580255, pvalue=2.648825646931678e-71, dof=2, expected_freq=array([[1961.05570421,  810.94429579],\n",
              "       [3743.12616557, 1547.87383443],\n",
              "       [3020.81813022, 1249.18186978]]))"
            ]
          },
          "metadata": {},
          "execution_count": 21
        }
      ]
    },
    {
      "cell_type": "code",
      "source": [
        "crosstab = pd.crosstab(df['DOJ Extended'],df['Status'])\n",
        "stats.chi2_contingency(crosstab)"
      ],
      "metadata": {
        "colab": {
          "base_uri": "https://localhost:8080/"
        },
        "id": "v52b9Ryz0hNY",
        "outputId": "d00c28ef-e908-4ce7-f142-9431891b7f7a"
      },
      "execution_count": 22,
      "outputs": [
        {
          "output_type": "execute_result",
          "data": {
            "text/plain": [
              "Chi2ContingencyResult(statistic=263.9216016582574, pvalue=2.3973129144585235e-59, dof=1, expected_freq=array([[5135.39082137, 2123.60917863],\n",
              "       [3589.60917863, 1484.39082137]]))"
            ]
          },
          "metadata": {},
          "execution_count": 22
        }
      ]
    },
    {
      "cell_type": "code",
      "source": [
        "df['Hike and Joining Bonus'] = df['Percent difference CTC'] + df['Joining Bonus'].apply(lambda x:'Yes' if x == 1 else 'No')"
      ],
      "metadata": {
        "id": "Pb7syGSc4dNI"
      },
      "execution_count": 29,
      "outputs": []
    },
    {
      "cell_type": "code",
      "source": [
        "crosstab = pd.crosstab(df['Hike and Joining Bonus'],df['Status'])\n",
        "stats.chi2_contingency(crosstab)"
      ],
      "metadata": {
        "colab": {
          "base_uri": "https://localhost:8080/"
        },
        "id": "42K_1Xir5LOA",
        "outputId": "360018f9-b046-4211-cb95-8b61961a0f96"
      },
      "execution_count": 31,
      "outputs": [
        {
          "output_type": "execute_result",
          "data": {
            "text/plain": [
              "Chi2ContingencyResult(statistic=340.5574186475376, pvalue=1.887211475022264e-71, dof=5, expected_freq=array([[1891.01800049,  781.98199951],\n",
              "       [  70.03770372,   28.96229628],\n",
              "       [3529.47579664, 1459.52420336],\n",
              "       [ 213.65036893,   88.34963107],\n",
              "       [2927.43452526, 1210.56547474],\n",
              "       [  93.38360496,   38.61639504]]))"
            ]
          },
          "metadata": {},
          "execution_count": 31
        }
      ]
    },
    {
      "cell_type": "code",
      "source": [
        "df['DOJ and Duration'] = df['Duration to accept offer'] + df['DOJ Extended'].apply(lambda x:'Yes' if x == 1 else 'No')"
      ],
      "metadata": {
        "id": "hP6bJYzR6GaQ"
      },
      "execution_count": 33,
      "outputs": []
    },
    {
      "cell_type": "code",
      "source": [
        "crosstab = pd.crosstab(df['DOJ and Duration'],df['Status'])\n",
        "stats.chi2_contingency(crosstab)"
      ],
      "metadata": {
        "colab": {
          "base_uri": "https://localhost:8080/"
        },
        "id": "M4OTbKug6SU9",
        "outputId": "d5dbca18-d35f-4a90-ace0-116cd43f8151"
      },
      "execution_count": 34,
      "outputs": [
        {
          "output_type": "execute_result",
          "data": {
            "text/plain": [
              "Chi2ContingencyResult(statistic=894.4448008835934, pvalue=1.4189950251324101e-193, dof=3, expected_freq=array([[2535.50636504, 1048.49363496],\n",
              "       [1035.70907322,  428.29092678],\n",
              "       [2599.88445634, 1075.11554366],\n",
              "       [2553.90010541, 1056.09989459]]))"
            ]
          },
          "metadata": {},
          "execution_count": 34
        }
      ]
    }
  ]
}